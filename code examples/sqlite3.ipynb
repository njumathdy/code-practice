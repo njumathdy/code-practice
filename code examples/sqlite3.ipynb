{
 "cells": [
  {
   "cell_type": "markdown",
   "metadata": {},
   "source": [
    "## sqlite3 内存模式 & 持久化"
   ]
  },
  {
   "cell_type": "markdown",
   "metadata": {},
   "source": [
    "目的：在python下使用sqlite3的**内存模式**，并将需要的结果进行持久化的保存，在下一次需要的时候重新加载到内存中。"
   ]
  },
  {
   "cell_type": "markdown",
   "metadata": {},
   "source": [
    "解决方法：查阅了sqlite3的相关文档后，发现python中并未提供现有的api可供调用。\n",
    "不过发现了iterdump()方法，其描述是\"Returns an iterator to dump the database in an SQL text format. Useful when saving an in-memory database for later restoration.\" <br />\n",
    "因此我们的思路是在使用时将文件库导入到内存库中使用，当使用结束时再将内存库导出到文件库中以实现持久化的存储。"
   ]
  },
  {
   "cell_type": "code",
   "execution_count": 66,
   "metadata": {},
   "outputs": [],
   "source": [
    "import os\n",
    "import sqlite3\n",
    "from io import StringIO"
   ]
  },
  {
   "cell_type": "markdown",
   "metadata": {},
   "source": [
    "实现：\n",
    "* init_sqlite_db_from_disk(): 将硬盘文件库加载到内存中\n",
    "* save_memory_db_to_disk(): 将内存数据库导出到硬盘中"
   ]
  },
  {
   "cell_type": "code",
   "execution_count": 192,
   "metadata": {},
   "outputs": [],
   "source": [
    "def init_sqlite_db_from_disk(db_path, extension=\".db\"):\n",
    "    con = sqlite3.connect(db_path+extension)\n",
    "    tempfile = StringIO()\n",
    "    for line in con.iterdump():\n",
    "        tempfile.write('%s\\n' % line)\n",
    "    con.close()\n",
    "    tempfile.seek(0)\n",
    "\n",
    "    memory_db = sqlite3.connect(\":memory:\")\n",
    "    memory_db.cursor().executescript(tempfile.read())\n",
    "    memory_db.commit()\n",
    "    \n",
    "    return memory_db\n",
    "\n",
    "def save_memory_db_to_disk(db, db_path, extension=\".db\"):\n",
    "    tempfile = StringIO()\n",
    "    for line in db.iterdump():\n",
    "        tempfile.write('%s\\n' % line)\n",
    "    tempfile.seek(0)\n",
    "    \n",
    "    if(os.path.exists(db_path+extension)):\n",
    "        os.remove(db_path+extension) # 删除原来的记录\n",
    "        \n",
    "    disk_db = sqlite3.connect(db_path+extension)\n",
    "    # print(tempfile.read())\n",
    "    disk_db.cursor().executescript(tempfile.read())\n",
    "    disk_db.commit()\n",
    "    disk_db.close()"
   ]
  },
  {
   "cell_type": "markdown",
   "metadata": {},
   "source": [
    "code example:"
   ]
  },
  {
   "cell_type": "code",
   "execution_count": 84,
   "metadata": {},
   "outputs": [],
   "source": [
    "conn = sqlite3.connect(\":memory:\")\n",
    "\n",
    "c = conn.cursor()\n",
    "c.execute('create table user (id varchar(20) primary key, name varchar(20))')\n",
    "c.execute('insert into user (id, name) values (\"1\", \"Michael\")')\n",
    "\n",
    "conn.commit()"
   ]
  },
  {
   "cell_type": "code",
   "execution_count": 93,
   "metadata": {},
   "outputs": [
    {
     "name": "stdout",
     "output_type": "stream",
     "text": [
      "('1', 'Michael')\n"
     ]
    }
   ],
   "source": [
    "for row in conn.execute('select * from user'):\n",
    "    print(row)"
   ]
  },
  {
   "cell_type": "code",
   "execution_count": 115,
   "metadata": {},
   "outputs": [],
   "source": [
    "save_memory_db_to_disk(conn, \"test1\")"
   ]
  },
  {
   "cell_type": "code",
   "execution_count": 116,
   "metadata": {},
   "outputs": [
    {
     "name": "stdout",
     "output_type": "stream",
     "text": [
      "('1', 'Michael')\n"
     ]
    }
   ],
   "source": [
    "test = sqlite3.connect(\"test1.db\")\n",
    "cur = test.cursor()\n",
    "\n",
    "for row in cur.execute('select * from user'):\n",
    "    print(row)"
   ]
  },
  {
   "cell_type": "markdown",
   "metadata": {},
   "source": [
    "sqlite3 内存模式与文件模式性能比较："
   ]
  },
  {
   "cell_type": "code",
   "execution_count": 190,
   "metadata": {},
   "outputs": [],
   "source": [
    "import time \n",
    "\n",
    "count = 10000\n",
    "\n",
    "# 插入\n",
    "def test_insert(db):\n",
    "    start = time.time()\n",
    "    c = db.cursor()\n",
    "    nums = list(range(count))\n",
    "    nums = [(i,) for i in nums]\n",
    "    c.executemany('insert into test values(?)', nums)\n",
    "    c.close()\n",
    "    db.commit()\n",
    "    \n",
    "    print(str(time.time() - start) + ' insert')\n",
    "    \n",
    "# 查询\n",
    "def test_query(db):\n",
    "    start = time.time()\n",
    "    c = db.cursor()\n",
    "    for i in range(count):\n",
    "        c.execute('select * from test where num=?', (i,))\n",
    "    c.close()\n",
    "    print(str(time.time() - start) + ' query')"
   ]
  },
  {
   "cell_type": "code",
   "execution_count": 172,
   "metadata": {},
   "outputs": [],
   "source": [
    "memory = sqlite3.connect(\":memory:\")\n",
    "test = sqlite3.connect(\"test1.db\")"
   ]
  },
  {
   "cell_type": "code",
   "execution_count": 184,
   "metadata": {},
   "outputs": [
    {
     "data": {
      "text/plain": [
       "<sqlite3.Cursor at 0x10f8c19d0>"
      ]
     },
     "execution_count": 184,
     "metadata": {},
     "output_type": "execute_result"
    }
   ],
   "source": [
    "memory.cursor().execute('drop table test')\n",
    "test.cursor().execute('drop table test')\n",
    "memory.cursor().execute('create table test (num integer)')\n",
    "test.cursor().execute('create table test (num integer)')"
   ]
  },
  {
   "cell_type": "code",
   "execution_count": 186,
   "metadata": {},
   "outputs": [
    {
     "name": "stdout",
     "output_type": "stream",
     "text": [
      "10.144698858261108 insert\n",
      "9.35562014579773 insert\n"
     ]
    }
   ],
   "source": [
    "test_insert(memory)\n",
    "test_insert(test)"
   ]
  },
  {
   "cell_type": "code",
   "execution_count": 191,
   "metadata": {},
   "outputs": [
    {
     "name": "stdout",
     "output_type": "stream",
     "text": [
      "4.39375901222229 query\n",
      "4.500895023345947 query\n"
     ]
    }
   ],
   "source": [
    "# 10000条数据\n",
    "test_query(memory)\n",
    "test_query(test)"
   ]
  },
  {
   "cell_type": "markdown",
   "metadata": {},
   "source": [
    "内存数据库和文件数据库并没有表现出很大的性能差异，原因？"
   ]
  },
  {
   "cell_type": "code",
   "execution_count": null,
   "metadata": {},
   "outputs": [],
   "source": []
  }
 ],
 "metadata": {
  "kernelspec": {
   "display_name": "Python 3",
   "language": "python",
   "name": "python3"
  },
  "language_info": {
   "codemirror_mode": {
    "name": "ipython",
    "version": 3
   },
   "file_extension": ".py",
   "mimetype": "text/x-python",
   "name": "python",
   "nbconvert_exporter": "python",
   "pygments_lexer": "ipython3",
   "version": "3.6.8"
  }
 },
 "nbformat": 4,
 "nbformat_minor": 2
}
